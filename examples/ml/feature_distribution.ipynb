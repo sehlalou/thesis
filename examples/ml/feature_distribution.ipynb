{
 "cells": [
  {
   "cell_type": "code",
   "execution_count": null,
   "metadata": {},
   "outputs": [],
   "source": [
    "import pandas as pd\n",
    "import numpy as np\n",
    "import matplotlib.pyplot as plt\n",
    "import seaborn as sns\n",
    "from sklearn.preprocessing import StandardScaler, MinMaxScaler\n",
    "from sklearn.cluster import KMeans\n",
    "from sklearn.metrics import silhouette_score"
   ]
  },
  {
   "cell_type": "code",
   "execution_count": null,
   "metadata": {},
   "outputs": [],
   "source": [
    "dataset_path = Path(hp.DATASET_PATH, f\"dataset_hrv_{cfg.WINDOW_SIZE}_{cfg.TRAINING_STEP}.csv\")\n",
    "df = pd.read_csv(dataset_path)"
   ]
  },
  {
   "cell_type": "code",
   "execution_count": null,
   "metadata": {},
   "outputs": [],
   "source": [
    "features_to_scale = df.columns.tolist()\n",
    "\n",
    "# Histograms\n",
    "plt.figure(figsize=(15, 10))\n",
    "for i, feature in enumerate(features_to_scale, 1):\n",
    "    plt.subplot(3, 2, i)\n",
    "    sns.histplot(df[feature], bins=30, kde=True)\n",
    "    plt.title(f'Distribution of {feature}')\n",
    "plt.tight_layout()\n",
    "plt.show()\n",
    "\n",
    "# Box plots\n",
    "plt.figure(figsize=(15, 10))\n",
    "for i, feature in enumerate(features_to_scale, 1):\n",
    "    plt.subplot(3, 2, i)\n",
    "    sns.boxplot(x=df[feature])\n",
    "    plt.title(f'Box Plot of {feature}')\n",
    "plt.tight_layout()\n",
    "plt.show()"
   ]
  }
 ],
 "metadata": {
  "language_info": {
   "name": "python"
  }
 },
 "nbformat": 4,
 "nbformat_minor": 2
}
