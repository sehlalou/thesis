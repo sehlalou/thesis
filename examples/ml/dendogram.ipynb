{
 "cells": [
  {
   "cell_type": "code",
   "execution_count": null,
   "metadata": {},
   "outputs": [],
   "source": [
    "from pathlib import Path\n",
    "\n",
    "import pandas as pd\n",
    "import matplotlib.pyplot as plt\n",
    "import sys\n",
    "import os\n",
    "import config as cfg\n",
    "import numpy as np\n",
    "from sklearn.cluster import KMeans, AgglomerativeClustering\n",
    "from sklearn.preprocessing import StandardScaler\n",
    "from sklearn.decomposition import PCA\n",
    "\n",
    "sys.path.append(r\"C:\\Users\\safou\\OneDrive\\Bureau\\iridia-af-main\\iridia_af\")\n",
    "\n",
    "import hyperparameters as hp\n",
    "from record import Record"
   ]
  },
  {
   "cell_type": "code",
   "execution_count": null,
   "metadata": {},
   "outputs": [],
   "source": [
    "dataset_path = Path(hp.DATASET_PATH, f\"dataset_hrv_{cfg.WINDOW_SIZE}_{cfg.TRAINING_STEP}.csv\")\n",
    "dataset = pd.read_csv(dataset_path)\n",
    "print(dataset)"
   ]
  },
  {
   "cell_type": "code",
   "execution_count": null,
   "metadata": {},
   "outputs": [],
   "source": [
    "df_af = dataset[dataset['label']] == 1\n",
    "X = df_af.drop(columns=[\"label\", \"patient\", \"record\"]) # Exclude non-feature columns"
   ]
  },
  {
   "cell_type": "code",
   "execution_count": null,
   "metadata": {},
   "outputs": [],
   "source": [
    "# Standardize the features\n",
    "scaler = StandardScaler()\n",
    "X_scaled = scaler.fit_transform(X)"
   ]
  },
  {
   "cell_type": "code",
   "execution_count": null,
   "metadata": {},
   "outputs": [],
   "source": [
    "n_clusters = 3\n",
    "agglo_model = AgglomerativeClustering(n_clusters=n_clusters, affinity=\"euclidean\")\n",
    "cluster_labels = agglo_model.fit_predict(X_scaled)"
   ]
  },
  {
   "cell_type": "code",
   "execution_count": null,
   "metadata": {},
   "outputs": [],
   "source": [
    "linkage_matrix = hierarchy.linkage(agglo_model.children_)\n",
    "print(linkage_matrix)"
   ]
  }
 ],
 "metadata": {
  "language_info": {
   "name": "python"
  }
 },
 "nbformat": 4,
 "nbformat_minor": 2
}
