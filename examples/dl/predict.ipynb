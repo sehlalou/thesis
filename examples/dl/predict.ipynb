{
 "cells": [
  {
   "cell_type": "code",
   "execution_count": null,
   "outputs": [],
   "source": [
    "%load_ext autoreload\n",
    "%autoreload 2"
   ],
   "metadata": {
    "collapsed": false
   }
  },
  {
   "cell_type": "code",
   "execution_count": null,
   "outputs": [],
   "source": [
    "from pathlib import Path\n",
    "\n",
    "import matplotlib.pyplot as plt\n",
    "\n",
    "plt.rcParams['figure.dpi'] = 300\n",
    "import numpy as np\n",
    "import pandas as pd\n",
    "import torch\n",
    "from tqdm.notebook import tqdm\n",
    "\n",
    "import iridia_af.hyperparameters as hp\n",
    "import config as cfg\n",
    "from model import CNNModel, CNNModelConfig\n",
    "from iridia_af.record import create_record"
   ],
   "metadata": {
    "collapsed": false
   }
  },
  {
   "cell_type": "code",
   "execution_count": null,
   "outputs": [],
   "source": [
    "# folder_name = \"20230701-161104\"\n",
    "folder_name = \"20230720-164047\"\n",
    "folder_path = Path(hp.LOG_DL_PATH, folder_name)\n",
    "assert folder_path.exists()\n",
    "\n",
    "model_path = Path(folder_path, \"model.pt\")\n",
    "assert model_path.exists()\n",
    "#\n",
    "config = CNNModelConfig(cfg.WINDOW_SIZE)\n",
    "model = CNNModel(config)\n",
    "model.load_state_dict(torch.load(model_path))\n",
    "model.float()\n",
    "model.eval()\n",
    "\n",
    "# folder path\n",
    "folder_path.absolute()"
   ],
   "metadata": {
    "collapsed": false
   }
  },
  {
   "cell_type": "code",
   "execution_count": null,
   "outputs": [],
   "source": [
    "metadata_df = pd.read_csv(hp.METADATA_PATH)\n",
    "record = create_record(\"record_104\", metadata_df, hp.RECORDS_PATH)\n",
    "record.load_ecg(clean_front=True)"
   ],
   "metadata": {
    "collapsed": false
   }
  },
  {
   "cell_type": "code",
   "execution_count": null,
   "outputs": [],
   "source": [
    "all_y_pred = [[] for _ in range(len(record.ecg[0]))]\n",
    "for i in tqdm(range(0, len(record.ecg[0]) - cfg.WINDOW_SIZE, cfg.TESTING_STEP)):\n",
    "    x = torch.tensor(record.ecg[0][i:i + cfg.WINDOW_SIZE, 0].copy()).float()\n",
    "    x = x.unsqueeze(0).unsqueeze(0)\n",
    "    y_pred = model(x)\n",
    "    for j in range(i, i + cfg.WINDOW_SIZE):\n",
    "        all_y_pred[j].append(y_pred.detach().numpy()[0][0])"
   ],
   "metadata": {
    "collapsed": false
   }
  },
  {
   "cell_type": "code",
   "execution_count": null,
   "outputs": [],
   "source": [
    "y_pred = []\n",
    "for i in tqdm(all_y_pred):\n",
    "    if len(i) == 0:\n",
    "        y_pred.append(0)\n",
    "    else:\n",
    "        y_pred.append(np.mean(i))"
   ],
   "metadata": {
    "collapsed": false
   }
  },
  {
   "cell_type": "code",
   "execution_count": null,
   "outputs": [],
   "source": [
    "fig, ax = plt.subplots(3, 1, figsize=(20, 10), sharex=True)\n",
    "\n",
    "ax_index = 0\n",
    "ax[ax_index].plot(record.ecg[0][:, 0])\n",
    "ax[ax_index].set_ylabel(\"ECG Lead I (mV)\")\n",
    "ax_index += 1\n",
    "\n",
    "ax[ax_index].plot(record.ecg_labels[0])\n",
    "ax[ax_index].set_ylim(-0.1, 1.1)\n",
    "ax[ax_index].set_yticks([0, 1])\n",
    "ax[ax_index].set_yticklabels([\"NSR\", \"AF\"])\n",
    "ax[ax_index].set_ylabel(\"Annotation\")\n",
    "ax_index += 1\n",
    "\n",
    "ax[ax_index].plot(y_pred)\n",
    "ax[ax_index].set_ylim(-0.1, 1.1)\n",
    "ax[ax_index].set_yticks([0, 1])\n",
    "ax[ax_index].set_yticklabels([\"NSR\", \"AF\"])\n",
    "ax[ax_index].set_ylabel(\"Prediction\")\n",
    "ax_index += 1"
   ],
   "metadata": {
    "collapsed": false
   }
  }
 ],
 "metadata": {
  "kernelspec": {
   "display_name": "Python 3",
   "language": "python",
   "name": "python3"
  },
  "language_info": {
   "codemirror_mode": {
    "name": "ipython",
    "version": 2
   },
   "file_extension": ".py",
   "mimetype": "text/x-python",
   "name": "python",
   "nbconvert_exporter": "python",
   "pygments_lexer": "ipython2",
   "version": "2.7.6"
  }
 },
 "nbformat": 4,
 "nbformat_minor": 0
}
